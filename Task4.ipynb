{
 "cells": [
  {
   "cell_type": "markdown",
   "metadata": {},
   "source": [
    "1. На доске написан массив положительных целых чисел. За шаг можно брать любые два различных числа и вычитать из большего меньшее. Процесс остановится, когда на доске все числа будут одинаковыми. Чему они будут равны?"
   ]
  },
  {
   "cell_type": "code",
   "execution_count": 4,
   "metadata": {},
   "outputs": [
    {
     "name": "stdout",
     "output_type": "stream",
     "text": [
      "Было: 2 8 74 43 18 91 61 95\n",
      "Стало: 1 1 1 1 1 1 1 1 \n",
      "\n",
      "Было: 196 42 138 14 50 180 148 22 182 84\n",
      "Стало: 2 2 2 2 2 2 2 2 2 2 \n",
      "\n",
      "Было: 195 69 261 135 264 9 234 168 300 45 78 207 177 51 279 153 222 126\n",
      "Стало: 3 3 3 3 3 3 3 3 3 3 3 3 3 3 3 3 3 3 \n",
      "\n"
     ]
    }
   ],
   "source": [
    "from random import randint as ri\n",
    "\n",
    "def f(a):\n",
    "    print('Было:', *a)\n",
    "    last = len(a) - 1\n",
    "    while True:\n",
    "        a.sort()\n",
    "        if a[0] == a[last]:\n",
    "            break\n",
    "        i = 0\n",
    "        while i < len(a) and a[i] == 0:\n",
    "            i += 1\n",
    "        if i < len(a):\n",
    "            a[last] -= a[i]    \n",
    "    print('Стало:', *a, '\\n')\n",
    "    \n",
    "for i in range(1, 4):\n",
    "    n = ri(5, 20)\n",
    "    a = set()\n",
    "    for _ in range(n):\n",
    "        a.add(i * ri(1, 100))\n",
    "    a = list(a)\n",
    "    f(a)"
   ]
  },
  {
   "cell_type": "markdown",
   "metadata": {},
   "source": [
    "Все числа будут равны НОД исходных чисел.\n",
    "\n",
    "$\\blacktriangle\\hspace{10pt}$ Для любой пары чисел $a, b$ будет найден их НОД по алгоритму Евклида. При добавлении к ним третьего числа $c$ будет найден НОД его и НОД первых двух (т. е. НОД($c$, НОД($a, b$))) и так далее. Вне зависимости от порядка взятия в конце будет НОД всех исходных чисел. $\\hspace{10pt}\\blacksquare$\n"
   ]
  },
  {
   "cell_type": "markdown",
   "metadata": {},
   "source": [
    "2. [ДПВ 1.33] Постройте эффективный алгоритм для вычисления НОК и оцените его сложность. В данной задаче используется модель вычислений с атомарными битовыми операциями (т.\\,е. время выполнения арифметических действий пропорционально длине чисел).\n",
    "\n",
    "    Известно, что\n",
    "$$ \\text{НОК}(a, b) = \\frac{a\\cdot b}{\\text{НОД}(a, b)}. $$\n",
    "\n",
    "    Наибольший общий делитель можно найти с помощью алгоритма Евклида."
   ]
  },
  {
   "cell_type": "code",
   "execution_count": 27,
   "metadata": {},
   "outputs": [
    {
     "data": {
      "text/plain": [
       "42"
      ]
     },
     "execution_count": 27,
     "metadata": {},
     "output_type": "execute_result"
    }
   ],
   "source": [
    "def gcd(a, b):\n",
    "    if b == 0:\n",
    "        return a\n",
    "    return gcd(b, a % b)\n",
    "\n",
    "def lcm(a, b):\n",
    "    return (a * b) // gcd(a, b)\n",
    "\n",
    "lcm(6, 14)"
   ]
  },
  {
   "cell_type": "markdown",
   "metadata": {},
   "source": [
    "Асимптотика такая же, как у алгоритма Евклида, т. е. $O(n)$, где $n$ $-$ длина входа (в таком случае умножение также занимает $O(n)$)."
   ]
  },
  {
   "cell_type": "markdown",
   "metadata": {},
   "source": [
    "3. Дан массив $a_1, \\dots, a_n$. Найдите $\\sum\\limits_{i\\neq j}a_i\\cdot a_j$ за линейное от $n$ количество арифметических операций.\n",
    "\n",
    "    Данную сумму можно представить как \n",
    "    \n",
    "   $$\\sum\\limits_{i\\neq j}a_i\\cdot a_j = a_2a_1 + a_3a_2 + a_3a_1 + a_4a_3 + a_4a_2 + a_4a_1 + \\dots + a_na_{n-1} + \\dots + a_na_1 =$$$$= a_2a_1 + a_3(a_1 + a_2) + a_4(a_1 + a_2 + a_3) + \\dots + a_n(a_1 + \\dots + a_{n-1}) = \\sum_{i=1}^{n}a_i\\sum_{j=1}^{i-1}a_j.$$\n",
    "   \n",
    "   Это выражение записывается рекуррентно:\n",
    "   \n",
    "   $$\\sum_{i=1}^{n}a_i\\sum_{j=1}^{i-1}a_j = \\underbrace{\\sum_{i=1}^{n-1}a_i\\sum_{j=1}^{i-1}a_j}_A + a_n\\underbrace{\\sum_{j=1}^{n-1}a_j}_B.$$\n",
    "\n",
    "    Значит рекурсивнвй алгоритм должен идти от начала массива и сохранять сумму элементов на префиксе (B) и текущий ответ (A). На каждой следующей итерации прибавлять к ответу сумму, умноженную на текущий элемент. Совершается ровно один проход массива, значит алгоритм линейный."
   ]
  },
  {
   "cell_type": "code",
   "execution_count": 31,
   "metadata": {},
   "outputs": [
    {
     "name": "stdout",
     "output_type": "stream",
     "text": [
      "8 1 4 6\n",
      "122\n"
     ]
    }
   ],
   "source": [
    "n = ri(1, 5)\n",
    "a = set()\n",
    "for _ in range(n):\n",
    "    a.add(ri(1, 10))\n",
    "a = list(a)\n",
    "n = len(a)\n",
    "\n",
    "print(*a)\n",
    "\n",
    "current_sum = 0\n",
    "ans = 0\n",
    "for x in a:\n",
    "    ans += current_sum * x\n",
    "    current_sum += x\n",
    "\n",
    "print(ans)"
   ]
  },
  {
   "cell_type": "markdown",
   "metadata": {},
   "source": [
    "4. Найдите $\\Theta$-асимптотику рекуррент: \n",
    "\n",
    "    а) $T(n) = 36T(\\frac{n}{6})+n^2$  \n",
    "    $$T(n) = \\Theta(n^2\\log n)$$\n",
    "    \n",
    "    б) $T(n) = 3T(\\frac{n}{3})+n^2$\n",
    "    $$T(n) = \\Theta(n^2)$$"
   ]
  },
  {
   "cell_type": "markdown",
   "metadata": {},
   "source": [
    "5. Оцените трудоемкость рекурсивного алгоритма, разбивающего исходную задачу размера $n$ на $n$ задач размеров $\\lceil \\frac n 2 \\rceil$ каждая, используя для этого $\\Theta(n)$ операций. \n",
    "\n",
    "    а) Можно считать $n$ степенью двойки.  \n",
    "    \n",
    "    $$T(n) = nT\\left(\\frac{n}{2}\\right) + \\alpha n =$$\n",
    "    \n",
    "    $$= n \\left(\\frac{n}{2}T\\left(\\frac{n}{4}\\right) + n\\cdot\\alpha\\frac{n}{2}\\right) + \\alpha n =$$\n",
    "    \n",
    "    $$= n \\left(\\frac{n}{2}\\left(T\\left(\\frac{n}{8}\\right) + n^2\\cdot\\alpha\\frac{n}{4}\\right) + n\\cdot\\alpha\\frac{n}{2}\\right) + \\alpha n=$$\n",
    "    \n",
    "    $$\\dots$$\n",
    "    \n",
    "    $$=\\alpha\\sum_{k=1}^{\\log_2n}\\frac{n^k}{2^{k-1}} = 2\\alpha\\sum_{k=1}^{\\log_2n}\\left(\\frac{n}{2}\\right)^k = 2\\alpha\\frac{\\left(\\frac{n}{2}\\right)^{\\log_2n + 1} - 1}{\\frac{n}{2}-1} = \\Theta\\left(\\left(\\frac{n}{2}\\right)^{\\log_2n}\\right) = \\Theta(n^{\\log n - 1}).$$\n"
   ]
  },
  {
   "cell_type": "markdown",
   "metadata": {},
   "source": [
    "6. Найдите $\\Theta$-асимптотику рекуррентной последовательности $T(n)$, считая что $T(n)$ ограничено константой при достаточно малых $n$:\n",
    "\n",
    "    а) $T(n)=T(\\lfloor \\alpha n\\rfloor)+T( \\lfloor(1-\\alpha)n\\rfloor)+\\Theta(n)$ $\\hspace{10pt}$ ($0 < \\alpha < 1$);\n",
    "    \n",
    "    $$T(n)=T(\\lfloor \\alpha n\\rfloor)+T( \\lfloor(1-\\alpha)n\\rfloor)+\\Theta(n)=$$\n",
    "    \n",
    "    $$=T(\\lfloor\\alpha^2n\\rfloor) + T(\\lfloor\\alpha(1-\\alpha)n\\rfloor) + T(\\lfloor\\alpha(1-\\alpha)n\\rfloor) + T(\\lfloor(1-\\alpha)^2n\\rfloor) + \\Theta(\\lfloor\\alpha n\\rfloor+\\lfloor(1-\\alpha)n\\rfloor)+\\Theta(n) =$$\n",
    "    \n",
    "    $$=T(\\lfloor\\alpha^3n\\rfloor) + T(\\lfloor\\alpha^2(1-\\alpha)n\\rfloor) + \\dots + T(\\lfloor(1-\\alpha)^3n\\rfloor) + \\Theta(\\lfloor\\alpha^2n\\rfloor+2\\lfloor\\alpha(1-\\alpha)n\\rfloor+\\lfloor(1-\\alpha)^2n\\rfloor)+ \\Theta(\\lfloor\\alpha n\\rfloor+\\lfloor(1-\\alpha)n\\rfloor)+\\Theta(n) =$$\n",
    "    \n",
    "    $$\\dots$$\n",
    "    \n",
    "    $$=\\Theta(1)+\\dots+\\Theta(\\lfloor\\alpha^2n\\rfloor+2\\lfloor\\alpha(1-\\alpha)n\\rfloor+\\lfloor(1-\\alpha)^2n\\rfloor)+ \\Theta(\\lfloor\\alpha n\\rfloor+\\lfloor(1-\\alpha)n\\rfloor)+\\Theta(n).$$\n",
    "    \n",
    "    Значение под знаком $\\Theta$ обратится в ноль когда в нем будет $n$ слагаемых (от каждого из них отнимется 1, т. к. $\\alpha \\notin \\mathbb{Z}$). Это произойдет на глубине $n$. Значит\n",
    "    \n",
    "    $$T(n) = n\\cdot\\Theta(n) = \\Theta(n^2).$$\n",
    " \n",
    "    б) $T(n)=T(\\lfloor n/2\\rfloor)+2\\cdot T(\\lfloor n/4\\rfloor)+\\Theta(n)$;\n",
    "    \n",
    "    $$T(n)=T\\left(\\left\\lfloor \\frac{n}{2}\\right\\rfloor\\right)+2\\cdot T\\left(\\left\\lfloor \\frac{n}{4}\\right\\rfloor\\right)+\\Theta(n) =$$\n",
    "    \n",
    "    $$=T\\left(\\left\\lfloor\\frac{n}{4}\\right\\rfloor\\right) + 2T\\left(\\left\\lfloor\\frac{n}{8}\\right\\rfloor\\right) + \\Theta\\left(\\left\\lfloor\\frac{n}{2}\\right\\rfloor\\right) + 2\\left(T\\left(\\left\\lfloor\\frac{n}{8}\\right\\rfloor\\right) + 2T\\left(\\left\\lfloor\\frac{n}{16}\\right\\rfloor\\right)+ \\Theta\\left(\\left\\lfloor\\frac{n}{4}\\right\\rfloor\\right)\\right)+\\Theta(n) =$$\n",
    "    \n",
    "    $$\\dots$$\n",
    "    \n",
    "    $$=T(\\sqrt n) + \\dots + \\Theta(1) + \\log_4n\\cdot\\Theta(n) =$$\n",
    "    \n",
    "    $$\\dots$$\n",
    "    \n",
    "    $$=\\Theta(1) + \\sum_{k=1}^{\\log_2n-\\log_4n}\\Theta(k) + \\log_4n\\cdot\\Theta(n).$$\n",
    "    \n",
    "    Первая $\\Theta(1)$ появится на глубине $\\log_4n$. Последняя строка состоит из одного элемента $\\Theta(n)$ и находится на глубине $\\log_2n$. Расстояние между ними   \n",
    "    $$\\log_2n-\\log_4n=2\\log_4n-\\log_4n=\\log_4n$$\n",
    "    заполнено некоторой суммой из элементов с асимптотикой $\\Theta(n)$. Общая асимптотика этой суммы $-$ $\\Theta(n\\log n)$. Второе слагаемое имеет такую же асимптотику, следовательно\n",
    "    \n",
    "    $$T(n) = \\Theta(n \\log n).$$"
   ]
  },
  {
   "cell_type": "code",
   "execution_count": null,
   "metadata": {},
   "outputs": [],
   "source": []
  }
 ],
 "metadata": {
  "kernelspec": {
   "display_name": "Python 3",
   "language": "python",
   "name": "python3"
  },
  "language_info": {
   "codemirror_mode": {
    "name": "ipython",
    "version": 3
   },
   "file_extension": ".py",
   "mimetype": "text/x-python",
   "name": "python",
   "nbconvert_exporter": "python",
   "pygments_lexer": "ipython3",
   "version": "3.7.2"
  }
 },
 "nbformat": 4,
 "nbformat_minor": 2
}
