{
 "cells": [
  {
   "cell_type": "markdown",
   "metadata": {},
   "source": [
    "# Алгоритмы. Задание 2\n",
    "### Удовин Илья, 874"
   ]
  },
  {
   "cell_type": "markdown",
   "metadata": {},
   "source": [
    "## 1.\n",
    "Доказать, что для произвольной константы $c>0$ функция $g(n) = 1+c+c^2+\\ldots+c^n$ есть"
   ]
  },
  {
   "cell_type": "markdown",
   "metadata": {},
   "source": [
    "а) $\\Theta(1)$, если $c < 1$.\n",
    "\n",
    "$$\\blacktriangle \\hspace{10pt}  1 \\leq 1+c+c^2+\\ldots+c^n = \\frac{1-c^{n+1}}{1-c} \\leq \\frac{1}{1-c}. \\hspace{10pt} \\blacksquare $$"
   ]
  },
  {
   "cell_type": "markdown",
   "metadata": {},
   "source": [
    "b) $\\Theta(n)$, если $c = 1$.\n",
    "\n",
    "$$ \\blacktriangle \\hspace{10pt} g(n) = \\underbrace{1 + \\dots + 1}_{n} = n = \\Theta(n). \\hspace{10pt} \\blacksquare $$ "
   ]
  },
  {
   "cell_type": "markdown",
   "metadata": {},
   "source": [
    "c) $\\Theta(c^n)$, если $c > 1$.\n",
    "\n",
    "$$ g(n) = \\frac{c^{n+1}-1}{c-1} .$$\n",
    "\n",
    "Докажем, что $\\exists c_1, c_2 \\in \\mathbb{R}_+ :$\n",
    "$$ c_1 \\leq \\frac{\\frac{c^{n+1}-1}{c-1}}{c^n} \\leq c_2 .$$\n",
    "\n",
    "$$ \\blacktriangle \\hspace{10pt} \\frac{\\frac{c^{n+1}-1}{c-1}}{c^n} = \\frac{c^{n+1}-1}{c^{n+1}-c^n} = \\frac{c^{n+1}-1}{c^{n}(c-1)} $$\n",
    "\n",
    "Пусть $c_1 = 1$, тогда \n",
    "$$ 1 \\leq \\frac{c^{n+1}-1}{c^{n+1}-c} \\Leftrightarrow c^{n+1}-c \\leq c^{n+1}-1 \\Leftrightarrow 1 \\leq c. $$\n",
    "\n",
    "Пусть $c_2 = \\dfrac{c}{c-1}$, тогда\n",
    "$$ \\frac{c^{n+1}-1}{c^{n}(c-1)} \\leq \\frac{c}{c-1} \\Leftrightarrow \\frac{c^{n+1}-1}{c^n} \\leq c \\Leftrightarrow c^{n+1}-1 \\leq c^{n+1}.$$\n",
    "\n",
    "Последнее равенство верно для любого $c$. $\\hspace{10pt} \\blacksquare$"
   ]
  },
  {
   "cell_type": "markdown",
   "metadata": {},
   "source": [
    "## 2.\n",
    "Построить линейный по времени онлайн-алгоритм, который вычисляет следующие функции:"
   ]
  },
  {
   "cell_type": "markdown",
   "metadata": {},
   "source": [
    "a) среднее арифметическое последовательности чисел.\n",
    "\n",
    "Для определения среднего арифметического необходимо знать сумму чисел и их количество. Их частное будет искомым значением. Сумму будем хранить в переменной $s$, изначально имеющей значение $0$. На каждой итерации будем увеличивать ее значение на элемент последовательности. Количество чисел будем хранить в переменной $n$, изначально имеющей значение $0$, и увеличивать ее на каждой итерации на $1$."
   ]
  },
  {
   "cell_type": "code",
   "execution_count": 17,
   "metadata": {},
   "outputs": [],
   "source": [
    "def solve_2a(a):    # a - массив чисел\n",
    "    s = 0    # сумма чисел\n",
    "    n = 0    # количество чисел\n",
    "    avg = None\n",
    "    for x in a:\n",
    "        s += x\n",
    "        n += 1\n",
    "        avg = s / n    # на каждой итерации вычисляется среднее значение\n",
    "    return avg"
   ]
  },
  {
   "cell_type": "code",
   "execution_count": 19,
   "metadata": {},
   "outputs": [
    {
     "data": {
      "text/plain": [
       "2.8"
      ]
     },
     "execution_count": 19,
     "metadata": {},
     "output_type": "execute_result"
    }
   ],
   "source": [
    "solve_2a([3, 1, 4, 1, 5])"
   ]
  },
  {
   "cell_type": "markdown",
   "metadata": {},
   "source": [
    "Сложность по времени $-$ $O(n)$. Сложность по памяти $-$ $O(1)$."
   ]
  },
  {
   "cell_type": "markdown",
   "metadata": {},
   "source": [
    "b) число элементов последовательности целых чисел, равных её максимальному элементу.\n",
    "\n",
    "Для начала нужно знать значение максимального элемента последовательности. Для этого воспользуемся известным жадным алгоритмом. Сохраним результат в переменную $m$ (*max*)."
   ]
  },
  {
   "cell_type": "code",
   "execution_count": 2,
   "metadata": {},
   "outputs": [],
   "source": [
    "def find_max(a):\n",
    "    m = a[0]    # максимальный элемент\n",
    "    for x in a:\n",
    "        if x > m:\n",
    "            m = x\n",
    "    return m"
   ]
  },
  {
   "cell_type": "markdown",
   "metadata": {},
   "source": [
    "Затем заведем переменную-счетчик $c$ (*counter*), значение которой изначально равно нулю. Пройдем по элементам последовательности, увеличивая значение $c$ каждый раз, когда значение элемента будет совпадать с $m$."
   ]
  },
  {
   "cell_type": "code",
   "execution_count": 15,
   "metadata": {},
   "outputs": [],
   "source": [
    "def solve_2b(a):\n",
    "    m = find_max(a)\n",
    "    c = 0    # счетчик\n",
    "    for x in a:\n",
    "        if x == m:\n",
    "            c += 1\n",
    "    return c"
   ]
  },
  {
   "cell_type": "code",
   "execution_count": 16,
   "metadata": {},
   "outputs": [
    {
     "data": {
      "text/plain": [
       "3"
      ]
     },
     "execution_count": 16,
     "metadata": {},
     "output_type": "execute_result"
    }
   ],
   "source": [
    "solve_2b([1, 5, 2, 5, 3, 4, 5])"
   ]
  },
  {
   "cell_type": "markdown",
   "metadata": {},
   "source": [
    "Сложность по времени и по памяти $-$ $O(n)$."
   ]
  },
  {
   "cell_type": "markdown",
   "metadata": {},
   "source": [
    "c) максимальное число идущих подряд одинаковых элементов.\n",
    "\n",
    "Создадим переменную $prev$, чтобы записывать в нее значение предыдущего элемента последовательности и переменную $c$, чтобы записывать в нее текущее значение счетчика. Каждый раз когда значение элемента отлично от $prev$ будем обнулять счетчик и перезаписывать значение $prev$, иначе просто увеличивать счетчик. Затем, если он больше своего максимального значения, сохранять его в переменной $m$.\n",
    "\n",
    "Изначально запишем в $c$ и $m$ значение $0$, в $prev$ $-$ первого элемента последовательности. Тогда на первой итерации $c$ увеличится на $1$, значит в результате значение $m$ будет положительным."
   ]
  },
  {
   "cell_type": "code",
   "execution_count": 4,
   "metadata": {},
   "outputs": [],
   "source": [
    "def solve_2c(a):\n",
    "    c = 0    # текущее значение счетчика\n",
    "    m = 0    # искомое число\n",
    "    prev = a[0]    # предыдущий элемент\n",
    "    for x in a:\n",
    "        if x == prev:\n",
    "            c += 1\n",
    "        else:\n",
    "            c = 1\n",
    "            prev = x\n",
    "        if c > m:\n",
    "            m = c\n",
    "    return m"
   ]
  },
  {
   "cell_type": "code",
   "execution_count": 6,
   "metadata": {},
   "outputs": [
    {
     "data": {
      "text/plain": [
       "3"
      ]
     },
     "execution_count": 6,
     "metadata": {},
     "output_type": "execute_result"
    }
   ],
   "source": [
    "solve_2c([1, 2, 2, 3, 3, 3, 4, 5])"
   ]
  },
  {
   "cell_type": "code",
   "execution_count": 9,
   "metadata": {},
   "outputs": [
    {
     "data": {
      "text/plain": [
       "4"
      ]
     },
     "execution_count": 9,
     "metadata": {},
     "output_type": "execute_result"
    }
   ],
   "source": [
    "solve_2c([1, 2, 3, 4, 5, 5, 5, 5])"
   ]
  },
  {
   "cell_type": "markdown",
   "metadata": {},
   "source": [
    "Сложность по времени $-$ $O(n)$. Сложность по памяти $-$ $O(1)$. "
   ]
  },
  {
   "cell_type": "markdown",
   "metadata": {},
   "source": [
    "## 4.\n",
    "\n",
    "На вход подаётся последовательность чисел $a_1, b_1, a_2, b_2, \\dots , a_n, b_n$. Построить онлайн-алгоритм, который вычисляет сумму 􏰀$\\displaystyle \\sum_{i \\neq j} a_i \\times b_j$.\n",
    "\n",
    "**Решение**\n",
    "\n",
    "Искомую сумму можно записать как\n",
    "\n",
    "$$ \n",
    "\\sum_{i \\neq j} a_i \\times b_j = a_1 \\cdot b_2 + a_2 \\cdot b_1 + a_3 (b_1 + b_2) + b_3 (a_1 + a_2) + a_4 (b_1 + b_2 + b_3) + b_4 (a_1 + a_2 + a_3) + \\dots + a_n (b_1 \\dots b_{n-1}) + b_n (a_1 + \\dots + a_{n-1}).\n",
    "$$\n",
    "\n",
    "$\\blacktriangle \\hspace{10pt} $ Для n = 2 (база индукции)\n",
    "\n",
    "$$ \\sum_{i \\neq j} a_i \\times b_j = a_2 b_1 + b_2 a_1 . $$\n",
    "\n",
    "Предположим, что это верно для некоторого $n - 1$ (шаг). Тогда при добавлении элементов $a_n$ и $b_n$ в новой сумме будут все слагаемые $a_i b_j$ из предыдущей суммы, кроме содержащих $a_n$ или $b_n$. Чтобы получить окончательный результат, нужно прибавить к предыдущей сумме $a_n b_1 + a_n b_2 + \\dots + a_n b_{n-1} + b_n a_1 + b_n a_2 + \\dots + b_n a_{n-1} = a_n (b_1 + \\dots + b_{n-1}) + b_n (a_1 + \\dots + a_{n-1})$, т. е. два последних слагаемых. $\\hspace{10pt} \\blacksquare$\n",
    "\n",
    "Элементы в скобках упорядочены и индекс элемента перед каждой скобкой на $1$ больше индекса последнего элемента в скобке. На $k$-м шаге алгоритма нам нужно знать сумму всех предыдущих элементов $\\displaystyle S_a = \\sum_{i=1}^{k-1} a_k$ и сумму всех предыдущих элементов $\\displaystyle S_b = \\sum_{i=1}^{k-1} b_k$ ($S_a$ и $S_b$ будем хранить как переменные). Зная эти значения, остается прибавить к итоговому ответу (будем хранить его в переменной $ans$) $a_k \\cdot S_b + b_k \\cdot S_a$  и перейти к следующему шагу. Значения переменных $S_a$, $S_b$ и ans изначально сделаем равными $0$. Трех этих переменных будет достаточно (все значения $a_i$ и $b_j$ запоминать не нужно). Всего слагаемых $2n$, значит алгоритм линейный."
   ]
  },
  {
   "cell_type": "code",
   "execution_count": 18,
   "metadata": {},
   "outputs": [],
   "source": [
    "def solve_4(s):\n",
    "    sum_a = sum_b = ans = 0\n",
    "    for i in range(0, len(s), 2):\n",
    "        a = s[i]\n",
    "        b = s[i + 1]\n",
    "        ans += a * sum_b + b * sum_a\n",
    "        sum_a += a\n",
    "        sum_b += b\n",
    "    return ans"
   ]
  },
  {
   "cell_type": "code",
   "execution_count": 19,
   "metadata": {},
   "outputs": [
    {
     "data": {
      "text/plain": [
       "64"
      ]
     },
     "execution_count": 19,
     "metadata": {},
     "output_type": "execute_result"
    }
   ],
   "source": [
    "solve_4([1, 2, 3, 4, 5, 6])"
   ]
  },
  {
   "cell_type": "markdown",
   "metadata": {},
   "source": [
    "*Комментарий к примеру*. $ a = \\{1, 3, 5\\}, b = \\{2, 4, 6\\} $\n",
    "$$ \\sum_{i \\neq j} a_i \\times b_j = 1 \\cdot 4 + 1 \\cdot 6 + 3 \\cdot 2 + 3 \\cdot 6 + 5 \\cdot 2 + 5 \\cdot 4 = 4 + 6 + 6 + 18 + 10 + 20 = 64. $$\n",
    "\n",
    "Сложность по времени $-$ $O(n)$. Сложность по памяти $-$ $O(1)$."
   ]
  },
  {
   "cell_type": "markdown",
   "metadata": {},
   "source": [
    "## 5.\n",
    "\n",
    "Дана последовательность целых чисел $a_1, a_2, \\dots , a_n$. Найти её самую длинную строго возрастающую подпоследовательность.\n",
    "\n",
    "а) Предложить $O(n^2)$ алгоритм.\n",
    "\n",
    "*Если таких последовательностей будет несколько, то выведем любую из них.*\n",
    "\n",
    "Алгоритм будет работать рекуррентно. Создадим для каждого элемента массив, хранящий самую длинную строго возрастающую последовательность, оканчивающуюся им самим (последовательность его предков). Для каждого элемента будем находить предка с самой длинной последовательностью и присоединять ее к элементу. В результате на $k$-й итерации будет найдена самая длинная подпоследовательность среди первых $k$ элементов. После $n$ итераций будет получен ответ на задачу.\n",
    "\n",
    "Для поиска предка с самой длинной последовательностью необходимо сохранять все последовательности. Будем использовать для этого двумерный массив **parents[n, n]**, изначально заполненный массивами из одного элемента $-$ соответствующего элемента последовательности. Для удобства будем использовать отдельный массив **number_of_parents[n]**, хранящий длины последовательностей предков для каждого элемента. По сути данные в нем будут избыточны, т. к. их можно вычислить, но код будет легче читаться. Также введем переменную $m$, которая будет хранить наибольшую длину последовательности предков (по аналогии с поиском наибольшего элемента), и переменную $key$, хранящую индекс элемента с этой последовательностью."
   ]
  },
  {
   "cell_type": "code",
   "execution_count": 51,
   "metadata": {},
   "outputs": [],
   "source": [
    "def solve_5(a):\n",
    "    n = len(a)\n",
    "    m = 0\n",
    "    key = 0\n",
    "    parents = [[a[i]] for i in range(n)]\n",
    "    num_of_parents = [1 for _ in range(n)]\n",
    "    \n",
    "    for i in range(n):\n",
    "        \n",
    "        for j in range(i):\n",
    "            if a[j] < a[i]:\n",
    "                if num_of_parents[j] + 1 > num_of_parents[i]:\n",
    "                    num_of_parents[i] = num_of_parents[j] + 1\n",
    "                    \n",
    "        if a[i] > a[key]:\n",
    "            parents[i] += parents[key]    # склейка массивов происходит за линейное время\n",
    "            \n",
    "        if num_of_parents[i] > m:\n",
    "            key = i\n",
    "            m = num_of_parents[i]\n",
    "            \n",
    "    parents[key].reverse()\n",
    "    return parents[key]"
   ]
  },
  {
   "cell_type": "code",
   "execution_count": 52,
   "metadata": {},
   "outputs": [
    {
     "data": {
      "text/plain": [
       "[3, 4, 5, 9]"
      ]
     },
     "execution_count": 52,
     "metadata": {},
     "output_type": "execute_result"
    }
   ],
   "source": [
    "solve_5([3, 1, 4, 1, 5, 9, 2, 6, 5, 3])"
   ]
  },
  {
   "cell_type": "markdown",
   "metadata": {},
   "source": [
    "На каждой итерации в цикле по $i$ происходит $i$ константных операций (сравнение и присваивание) (цикл по $j$). Также происходит склейка массивов, занимающая порядка $i$ операций (т. к. длина присоединяемого массива не превосходит $i$) и некоторые операции, занимающие константное время. В результате происходит порядка $\\displaystyle \\sum_{i=1}^n 2i = n(n+1) = O(n^2)$ операций.\n",
    "\n",
    "Сложность по времени $-$ $O(n^2)$.\n",
    "\n",
    "В наихудшем случае, если последовательность монотонно возрастает массив предков будет содержать $\\displaystyle \\sum_{i=1}^n i = \\frac{n(n+1)}{2} = O(n^2)$ элементов.\n",
    "\n",
    "Сложность по памяти $-$ $O(n^2)$."
   ]
  },
  {
   "cell_type": "code",
   "execution_count": null,
   "metadata": {},
   "outputs": [],
   "source": []
  }
 ],
 "metadata": {
  "kernelspec": {
   "display_name": "Python 3",
   "language": "python",
   "name": "python3"
  },
  "language_info": {
   "codemirror_mode": {
    "name": "ipython",
    "version": 3
   },
   "file_extension": ".py",
   "mimetype": "text/x-python",
   "name": "python",
   "nbconvert_exporter": "python",
   "pygments_lexer": "ipython3",
   "version": "3.7.2"
  }
 },
 "nbformat": 4,
 "nbformat_minor": 2
}
