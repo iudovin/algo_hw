{
 "cells": [
  {
   "cell_type": "markdown",
   "metadata": {},
   "source": [
    "# Алгоритмы. Задание 6\n",
    "### Удовин Илья, 874"
   ]
  },
  {
   "cell_type": "markdown",
   "metadata": {},
   "source": [
    "Дано n слов длины k, состоящих из маленьких букв латинского алфавита. Предложить эффективный алгоритм их сортировки в лексикографическом (словарном) порядке.\n",
    "\n",
    "Можно посчитать количество каждой из первых букв, затем пройти по массиву и ставить каждое слово в новый массив на заранее выделенное для него место (_Radix Sort_). Так мы отсортируем слова только по первой букве. Далее применим тот же алгоритм для каждого подмассива из слов с одинаковой первой буквой, но сортировать будем уже по второй и так далее пока не останется подмассивов длины больше 2 или алгоритм не дойдет до конца слова. Асимптотика по времени &mdash; $O(n\\cdot k)$ (алгоритм перебирает каждую букву конечное число раз), по памяти &mdash; $O(n\\cdot k)$."
   ]
  },
  {
   "cell_type": "code",
   "execution_count": 1,
   "metadata": {},
   "outputs": [],
   "source": [
    "def word_sort(a, letter, start, end):\n",
    "    \n",
    "    count_letters = [0 for _ in range(26)]\n",
    "    for i in range(start, end):\n",
    "        count_letters[ord(a[i][letter]) - ord('a')] += 1\n",
    "    \n",
    "    index = [0 for _ in range(26)]\n",
    "    s = start\n",
    "    for i in range(len(count_letters)):\n",
    "        if count_letters[i] > 0:\n",
    "            index[i] = s\n",
    "            s += count_letters[i]\n",
    "            \n",
    "    b = [None for _ in range(start, end)]\n",
    "    print('b:', start, end)\n",
    "    for word in a[start:end]:\n",
    "        print('%s -> %s' % (word, index[ord(word[0]) - ord('a')] - start))\n",
    "        print(' ' * 4, index[ord(word[0]) - ord('a')] - start)\n",
    "        b[index[ord(word[0]) - ord('a')]] = word\n",
    "        index[ord(word[0]) - ord('a')] += 1\n",
    "        \n",
    "    for i in range(start, end):\n",
    "        a[i] = b[i - start]\n",
    "        \n",
    "    letter += 1\n",
    "    if letter >= k:\n",
    "        return\n",
    "    \n",
    "    s = 0; sub_not_found = True\n",
    "    for i in range(start + 1, end):\n",
    "        if a[i][letter - 1] == a[i - 1][letter - 1]:\n",
    "            if sub_not_found:\n",
    "                sub_not_found = False\n",
    "            if s == 0:\n",
    "                new_start = i\n",
    "            s += 1\n",
    "        elif s > 0:\n",
    "            word_sort(a, letter, new_start - 1, new_start + s)\n",
    "            s = 0\n",
    "    if s > 0:\n",
    "        word_sort(a, letter, new_start - 1, new_start + s)\n",
    "    if sub_not_found:\n",
    "        return"
   ]
  },
  {
   "cell_type": "markdown",
   "metadata": {},
   "source": [
    "Имеется $n$ монет, среди которых одна фальшивая, и чашечные весы. Настоящие монеты все имеют одинаковый вес, а фальшивая легче. На каждую чашку весов можно класть произвольное количество монет. Докажите, что фальшивую монету можно найти за $\\log_3 n + c$ взвешиваний.\n",
    "\n",
    "$\\blacktriangle\\hspace{10pt}$ Будем каджый раз делить набор монет на три равномощных набора: Если исходное количество монет не делится на 3, *ровно одна* монета будет лежать сразу в двух наборах. Поочередно взвесим эти три набора. Если два из них оказались одинаковыми по весу, а третий легче или тяжелее, то либо монета, которая имеет отличный от остальных вес &mdash; это та монета, которая была сразу в двух из первых наборов (будем считать, что мы ее запомнили), либо искомая монета лежит в третьем наборе. В первом случае достаточно сравнить взятую монету с любой другой: если веса различаются, то мы нашли нужную монету, иначе выполним тот же алгоритм рекуррентно на третьем наборе.\n",
    "    \n",
    "В результате формула для рекурренты: $$T(n) = T\\left( \\frac{n}{3} \\right) + 1 =$$\n",
    "    \n",
    "$$= T\\left(\\frac{n}{3}\\right) + T\\left(\\frac{n}{9}\\right) + T\\left(\\frac{n}{27}\\right) + \\dots + 1 + \\log_3 n = \\log_3n + c. \\hspace{20pt}\\blacksquare$$"
   ]
  },
  {
   "cell_type": "markdown",
   "metadata": {},
   "source": [
    "Докажите, что в условиях предыдущей задачи для нахождения фальшивой монеты необходимо $log_3 n + c$ взвешиваний.\n",
    "\n",
    "$\\blacktriangle\\hspace{10pt}$ В худшем случае фальшивая монета будет каждый раз находиться в третьем массиве, и тогда рекуррента опустится до $T(3)$, т. е. сравнения трех монет. До этого выход из алгоритма не произойдет. $\\hspace{10pt}\\blacksquare$"
   ]
  },
  {
   "cell_type": "markdown",
   "metadata": {},
   "source": [
    "Даны два отсортированных массива длины $n$. Предложите как можно более эффективный алгоритм поиска медианы в массиве, состоящем из всех данных $2n$ элементов. Можно считать, что все элементы различные. Докажите корректность алгоритма и оцените его сложность (количество сравнений). В этой задаче обращения к элементам массива выполняются за $O(1)$, читать оба массива целиком не требуется, считайте, что они уже лежат в памяти.\n",
    "\n",
    "Нам нужна $n$-я порядковая статистика в массиве из $2n$ элементов. Чтобы найти $n$-й по величине элемент, можно по очереди \"доставать\" минимальный (или максимальный) верхний элемент из массивов. В результате алгоритм пройдет $n$ элементов. Асимптотика &mdash; $\\Theta(n)$."
   ]
  },
  {
   "cell_type": "code",
   "execution_count": 2,
   "metadata": {},
   "outputs": [
    {
     "name": "stdout",
     "output_type": "stream",
     "text": [
      "1 2 6 15 25 27 29 33 39 40\n",
      "5 6 10 11 17 21 22 28 29 33\n",
      "21\n"
     ]
    }
   ],
   "source": [
    "from random import randint as ri\n",
    "\n",
    "n = 10; a1 = []; a2 = []\n",
    "\n",
    "for _ in range(n):\n",
    "    a1.append(ri(1, 40))\n",
    "    a2.append(ri(1, 40))\n",
    "    \n",
    "a1.sort()\n",
    "a2.sort()\n",
    "\n",
    "print(*a1)\n",
    "print(*a2)\n",
    "\n",
    "c = 0; i1 = 0; i2 = 0\n",
    "last_in_a1 = True\n",
    "while c < n:\n",
    "    if a1[i1] < a2[i2]:\n",
    "        i1 += 1\n",
    "        last_in_a1 = True\n",
    "    else:\n",
    "        i2 += 1\n",
    "        last_in_a1 = False\n",
    "    c += 1\n",
    "print(min(a1[i1 - 1], a2[i2]) if last_in_a1 else min(a1[i1], a2[i2 - 1]))"
   ]
  }
 ],
 "metadata": {
  "kernelspec": {
   "display_name": "Python 3",
   "language": "python",
   "name": "python3"
  },
  "language_info": {
   "codemirror_mode": {
    "name": "ipython",
    "version": 3
   },
   "file_extension": ".py",
   "mimetype": "text/x-python",
   "name": "python",
   "nbconvert_exporter": "python",
   "pygments_lexer": "ipython3",
   "version": "3.7.2"
  }
 },
 "nbformat": 4,
 "nbformat_minor": 2
}
