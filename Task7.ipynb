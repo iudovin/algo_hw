{
 "cells": [
  {
   "cell_type": "markdown",
   "metadata": {},
   "source": [
    "# Алгоритмы. Задание 7\n",
    "### Удовин Илья, 874"
   ]
  },
  {
   "cell_type": "markdown",
   "metadata": {},
   "source": [
    "### 1.\n",
    "Реализуйте стек с помощью двух очередей."
   ]
  },
  {
   "cell_type": "code",
   "execution_count": 1,
   "metadata": {},
   "outputs": [],
   "source": [
    "class Queue:\n",
    "    \n",
    "    def __init__(self):\n",
    "        self._arr = []\n",
    "        \n",
    "    def q_is_empty(self):\n",
    "        return False if len(self._arr) > 0 else True\n",
    "    \n",
    "    def q_push_back(self, x):\n",
    "        self._arr.append(x)\n",
    "\n",
    "    def q_pop_front(self):\n",
    "        if self.q_is_empty():\n",
    "            print('Queue is empty')\n",
    "            return\n",
    "        return self._arr.pop(0)"
   ]
  },
  {
   "cell_type": "markdown",
   "metadata": {},
   "source": [
    "Одну очередь будем всегда поддерживать пустой. Чтобы положить элемент в стек, добавим его в непустую очередь. Чтобы достать элемент из стека, переложим все элементы кроме последнего из непустой очереди в пустую, и вернем последний. Будет возвращен последний добавленный до этого в стек элемент, т. к. до этого он был в конце непустой очереди. \n",
    "\n",
    "В приведенном примере добавление элемента в очередь происходит за $\\Theta(1)$, извлечение из очереди &mdash; за $\\Theta(n)$ ($n$ &mdash; длина очереди). Значит добавление элемента в стек будет происходить за $\\Theta(1)$ действий, извлечение из стека &mdash; за $\\Theta(n^2)$. В лучшем случае из очереди можно достать элемент за $\\Theta(1)$, значит оптимальный алгоритм извлекает элемент из стека за $\\Theta(n)$."
   ]
  },
  {
   "cell_type": "code",
   "execution_count": 2,
   "metadata": {},
   "outputs": [],
   "source": [
    "class Stack:\n",
    "    \n",
    "    def __init__(self): \n",
    "        self._first = Queue()\n",
    "        self._second = Queue()\n",
    "    \n",
    "    def stk_is_empty(self):\n",
    "        if self._first.q_is_empty() and self._second.q_is_empty():\n",
    "            return True\n",
    "        else:\n",
    "            return False\n",
    "    \n",
    "    def stk_push(self, x):\n",
    "        if self._first.q_is_empty():\n",
    "            self._second.q_push_back(x)\n",
    "        else:\n",
    "            self._first.q_push_back(x)\n",
    "    \n",
    "    def stk_pop(self):\n",
    "        if self.stk_is_empty():\n",
    "            print('Stack is empty')\n",
    "            return\n",
    "        if self._first.q_is_empty():\n",
    "            while True:\n",
    "                x = self._second.q_pop_front()\n",
    "                if self._second.q_is_empty():\n",
    "                    break\n",
    "                self._first.q_push_back(x)\n",
    "        else:\n",
    "            while True:\n",
    "                x = self._first.q_pop_front()\n",
    "                if self._first.q_is_empty():\n",
    "                    break\n",
    "                self._second.q_push_back(x)\n",
    "        return x"
   ]
  },
  {
   "cell_type": "code",
   "execution_count": 3,
   "metadata": {},
   "outputs": [
    {
     "name": "stdout",
     "output_type": "stream",
     "text": [
      "c\n",
      "e\n",
      "d\n",
      "b\n",
      "a\n"
     ]
    }
   ],
   "source": [
    "s = Stack()\n",
    "\n",
    "s.stk_push('a')\n",
    "s.stk_push('b')\n",
    "s.stk_push('c')\n",
    "print(s.stk_pop())\n",
    "s.stk_push('d')\n",
    "s.stk_push('e')\n",
    "while not s.stk_is_empty():\n",
    "    print(s.stk_pop())"
   ]
  },
  {
   "cell_type": "markdown",
   "metadata": {},
   "source": [
    "### 2.\n",
    "Опишите способ хранения почти-полного троичного дерева в массиве. Как по номеру клетки родителя вычислить номера детей? Как по номеру ребёнка вычислить номер родителя?\n",
    "\n",
    "У каждого элемента будет один родитель и три ребенка. По аналогии с двоичным деревом зная номер элемента можно вычислить номера всех родственников. Пусть индекс элемента $n$ (массив нумеруется с $0$). Тогда индекс левого ребенка $$l = 3n - 1,$$ индекс среднего &mdash; $$m = 3n,$$ индекс правого &mdash; $$r = 3n + 1,$$ индекс родителя &mdash; $$p = \n",
    "\\begin{cases} \n",
    "    \\dfrac{n}{3}, & n \\bmod 3 = 0 \\\\ \n",
    "    \\dfrac{n + 1}{3}, & n \\bmod 3 = -1 \\\\\n",
    "    \\dfrac{n - 1}{3}, & n \\bmod 3 = 1\n",
    "\\end{cases}\n",
    "\\Leftrightarrow p = \\left\\lfloor \\frac{n + 1}{3} \\right\\rfloor.$$"
   ]
  },
  {
   "cell_type": "code",
   "execution_count": 4,
   "metadata": {},
   "outputs": [],
   "source": [
    "def get_left_child(n):\n",
    "    return 3 * n - 1\n",
    "\n",
    "def get_mid_child(n):\n",
    "    return 3 * n\n",
    "\n",
    "def get_right_child(n):\n",
    "    return 3 * n + 1\n",
    "\n",
    "def get_parent(n):\n",
    "    return (n + 1) // 3"
   ]
  }
 ],
 "metadata": {
  "kernelspec": {
   "display_name": "Python 3",
   "language": "python",
   "name": "python3"
  },
  "language_info": {
   "codemirror_mode": {
    "name": "ipython",
    "version": 3
   },
   "file_extension": ".py",
   "mimetype": "text/x-python",
   "name": "python",
   "nbconvert_exporter": "python",
   "pygments_lexer": "ipython3",
   "version": "3.7.2"
  }
 },
 "nbformat": 4,
 "nbformat_minor": 2
}
