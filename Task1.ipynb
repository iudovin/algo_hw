{
 "cells": [
  {
   "cell_type": "markdown",
   "metadata": {},
   "source": [
    "# Алгоритмы. Задание 1\n",
    "### Удовин Илья, группа 874"
   ]
  },
  {
   "cell_type": "markdown",
   "metadata": {},
   "source": [
    "## 1."
   ]
  },
  {
   "cell_type": "markdown",
   "metadata": {},
   "source": [
    "Верно ли, что\n",
    "\n",
    "а) $n = O(n\\log n)$\n",
    "\n",
    "$\\blacktriangle$ Пусть $C = 1$, тогда $\\forall n > e \\rightarrow n \\leq C \\cdot n\\log n$. Верно. $\\blacksquare$"
   ]
  },
  {
   "cell_type": "markdown",
   "metadata": {},
   "source": [
    "б) $\\exists \\varepsilon > 0 : n\\log n = \\Omega(n^{1+\\varepsilon})$\n",
    "\n",
    "$$n\\log n = \\Omega(n^{1+\\varepsilon}) \\Leftrightarrow n^{1+\\varepsilon} = O(n\\log n) \\Leftrightarrow \\exists C > 0, N \\in \\mathbb{N}: \\forall n \\geq N \\rightarrow n^{1+\\varepsilon} \\leq C \\cdot n\\log n \\Leftrightarrow n^{\\varepsilon} \\leq \\log n. \\tag{1}$$ \n",
    "\n",
    "$\\blacktriangle$ $\\log n \\propto \\ln n $ с точностью до некоторой константы. Неравенство (1) эквивалентно\n",
    "\n",
    "$$ e^{n^\\varepsilon} \\leq n \\cdot e^c \\Leftrightarrow e^{n^\\varepsilon} \\leq c \\cdot n. $$\n",
    "\n",
    "Пусть $\\varepsilon = \\frac{1}{\\zeta}$, где $\\zeta > 1$, тогда $e^{n^\\varepsilon} = \\sqrt[n^\\zeta]{e}$. Данная функция убывает с ростом $n$. В то же время $c \\cdot n$ монотонно возрастает, значит \n",
    "$$\\exists N: \\forall n \\geq N \\rightarrow \\sqrt[n^\\zeta]{e} \\leq c \\cdot n \\Leftrightarrow n^{1+\\varepsilon} \\leq C \\cdot n\\log n. \\hspace{20pt} \\blacksquare$$"
   ]
  },
  {
   "cell_type": "code",
   "execution_count": 15,
   "metadata": {},
   "outputs": [
    {
     "data": {
      "image/png": "[encoded data removed]",
      "text/plain": [
       "<Figure size 432x288 with 1 Axes>"
      ]
     },
     "metadata": {
      "needs_background": "light"
     },
     "output_type": "display_data"
    }
   ],
   "source": [
    "%matplotlib inline\n",
    "import numpy as np\n",
    "import matplotlib.pyplot as plt\n",
    "from math import exp\n",
    "x = np.arange(1., 1000., 1.)\n",
    "plt.plot(x, [exp(1./i) for i in x], label='$e^{1/n}$')\n",
    "plt.legend(bbox_to_anchor=(1.05, 1), loc=2, borderaxespad=0.)\n",
    "plt.show()"
   ]
  },
  {
   "cell_type": "markdown",
   "metadata": {},
   "source": [
    "## 2."
   ]
  },
  {
   "cell_type": "markdown",
   "metadata": {},
   "source": [
    "Известно, что $f(n) = O(n^2), g(n) = \\Omega(1), g(n) = O(n)$. Положим\n",
    "$$ h(n) = \\frac{f(n)}{g(n)} .$$\n",
    "Возможно ли, что\n",
    "\n",
    "а) $h(n) = \\Theta(n\\log n)$\n",
    "\n",
    "$\\blacktriangle$ Пусть $f(n) = n\\log n, g(n) = 1$, тогда $f(n) = O(n^2), g(n) = \\Omega(1), g(n) = O(n), h(n) = n\\log n = \\Theta(n\\log n)$. Возможно. $\\blacksquare$"
   ]
  },
  {
   "cell_type": "markdown",
   "metadata": {},
   "source": [
    "б) $h(n) = O(n^3)$\n",
    "\n",
    "Невозможно.\n",
    "\n",
    "$\\blacktriangle$ Определим наилучшую верхнюю оценку $h(n)$. Для этого найдем наилучшую верхнюю оценку $f(n)$ и наилучшую нижнюю оценку $g(n)$.\n",
    "\n",
    "$$ f(n) = O(n^2) \\Leftrightarrow \\exists C_1 > 0, N_1 \\in \\mathbb{N} : \\forall n \\geq N_1 \\rightarrow f(n) \\leq C_1 \\cdot n^2, $$\n",
    "\n",
    "$$ g(n) = \\Omega(1) \\Leftrightarrow \\exists C_2 > 0, N_2 \\in \\mathbb{N} : \\forall n \\geq N_2 \\rightarrow g(n) \\geq C_2. $$\n",
    "Значит\n",
    "$$ \\forall n > \\max(N_1, N_2) \\rightarrow h(n) \\leq \\frac{C_1}{C_2} \\cdot n^2 , \\tag{2} $$\n",
    "тогда\n",
    "$$ \\forall n > \\frac{C_1}{C_2} \\rightarrow h(n) > \\frac{C_1}{C_2} \\cdot n^2 \\Rightarrow h(n) \\neq O(n^3). \\hspace{20pt} \\blacksquare $$"
   ]
  },
  {
   "cell_type": "markdown",
   "metadata": {},
   "source": [
    "Наилучшие (из возможных) верхние и нижние оценки на функцию $h(n)$ и\n",
    "пример функций $f(n)$ и $g(n)$ для которых ваши оценки на $h(n)$ достигаются:\n",
    "\n",
    "Из (2) следует, что наилучшая верхняя оценка на $h(n)$ &mdash; $O(n^2)$.\n",
    "\n",
    "Наилучшая нижняя оценка находится аналогично. Поскольку функции $f(n)$ и $g(n)$ дискретны, наилучшая нижняя оценка $h(x)$ может быть не меньше, чем $\\Omega(1)$. Найдем такие $f(n)$ и $g(n)$, что $h(n) = \\Omega(1)$. Пусть $f(n) = 1$, $g(n) = 1$, тогда $h(n) = 1 = \\Omega(1)$. "
   ]
  },
  {
   "cell_type": "markdown",
   "metadata": {},
   "source": [
    "## 3."
   ]
  },
  {
   "cell_type": "markdown",
   "metadata": {},
   "source": [
    "Найдите $\\Theta$-асимптотику $\\displaystyle\\sum_{i=1}^n\\sqrt{i^3+2i+5}$.\n",
    "$\\blacktriangle$ С одной стороны,\n",
    "$$ \\sum_{i=1}^n\\sqrt{i^3+2i+5} \\leq n \\sqrt{n^3+2n+5} = O(n^{5/2}). $$\n",
    "С другой стороны,\n",
    "$$ \\sum_{i=1}^n\\sqrt{i^3+2i+5} \\geq \\sum_{i=n/2}^n\\sqrt{i^3+2i+5} \\geq n\\sqrt{\\left(\\frac{n}{2}\\right)^3} = \\Omega(n^{5/2}). $$\n",
    "Ответ: $\\Theta(n^{5/2})$. $\\blacksquare$"
   ]
  },
  {
   "cell_type": "markdown",
   "metadata": {},
   "source": [
    "## 4."
   ]
  },
  {
   "cell_type": "markdown",
   "metadata": {},
   "source": [
    "Пусть для положительной функции $f(n)$ известно, что $f(n) = (3 + o(1))^n + \\Theta(n^{100})$. Верно ли, что в общем случае $\\log f(n) = \\Theta(n)$?\n",
    "\n",
    "$\\blacktriangle$ $f(n) = c^n + \\Theta(n^{100}) = \\Theta(e^n)$, поскольку экспоненциальная функция растет быстрее полиномиальной для достаточно большого $n$. Тогда $\\log f(n) = \\Theta(n)$. Верно. $\\blacksquare$"
   ]
  },
  {
   "cell_type": "markdown",
   "metadata": {},
   "source": [
    "## 5."
   ]
  },
  {
   "cell_type": "code",
   "execution_count": 54,
   "metadata": {},
   "outputs": [
    {
     "data": {
      "image/png": "[encoded data removed]",
      "text/plain": [
       "<Figure size 432x288 with 1 Axes>"
      ]
     },
     "metadata": {
      "needs_background": "light"
     },
     "output_type": "display_data"
    },
    {
     "data": {
      "image/png": "[encoded data removed]",
      "text/plain": [
       "<Figure size 432x288 with 1 Axes>"
      ]
     },
     "metadata": {
      "needs_background": "light"
     },
     "output_type": "display_data"
    }
   ],
   "source": [
    "def g(n):\n",
    "    s = 0\n",
    "    b = 0\n",
    "    while b * b < n:                    # √n раз  \n",
    "        for i in range(b):              # b раз\n",
    "            for j in range(0, i, 2):    # i/2 раз\n",
    "                s += 1\n",
    "            j = 1\n",
    "            while j < n:                # log(n) раз\n",
    "                s += 1\n",
    "                j *= 2\n",
    "        b += 1\n",
    "    return s\n",
    "\n",
    "x = np.arange(1, 100, 1)\n",
    "plt.plot(x, [g(i) for i in x], label='$g(n)$')\n",
    "plt.plot(x, 0.5*x**(1.5), label='$n^{3/2}/2$')\n",
    "plt.legend(bbox_to_anchor=(1.05, 1), loc=2, borderaxespad=0.)\n",
    "plt.show()\n",
    "x = np.arange(1, 1000, 1)\n",
    "plt.plot(x, [g(i) for i in x], label='$g(n)$')\n",
    "plt.plot(x, 0.25*x**(1.5), label='$n^{3/2}/4$')\n",
    "plt.legend(bbox_to_anchor=(1.05, 1), loc=2, borderaxespad=0.)\n",
    "plt.show()"
   ]
  },
  {
   "cell_type": "markdown",
   "metadata": {},
   "source": [
    "$\\blacktriangle$ Из кода видно, что\n",
    "$$g(n) = \\sum_{b=1}^\\sqrt{n} \\sum_{i=0}^b \\left( \\frac{i}{2} + \\log_2n \\right) = $$\n",
    "\n",
    "<center>(предел второй суммы на самом деле $b-1$, но это не влияет на асимптотику)</center>\n",
    "\n",
    "$$ = \\sum_{b=1}^\\sqrt{n} \\left( \\sum_{i=0}^b\\frac{i}{2} + \\sum_{i=0}^b \\log_2n \\right) =\n",
    "\\sum_{b=1}^\\sqrt{n} \\left( \\frac{b(b+1)}{4} + b\\log_2n \\right) =\n",
    "\\sum_{b=1}^\\sqrt{n} \\left( \\frac{b^2}{4} + (\\frac{1}{4} + \\log_2n) b \\right) = $$\n",
    "$$ = \\frac{1}{4} \\sum_{b=1}^\\sqrt{n} b^2 + \\left( \\frac{1}{4} + \\log_2n \\right) \\sum_{b=1}^\\sqrt{n} b =\n",
    "\\frac{1}{4} \\frac{\\sqrt{n}(\\sqrt{n}+1)(2\\sqrt{n}+1)}{6} + \\left( \\frac{1}{4} + \\log_2n \\right) \\frac{\\sqrt{n}(\\sqrt{n}+1)}{2} = $$\n",
    "$$ = \\frac{n^{3/2}}{24} + o(n^{3/2}) = \\Theta(n^{3/2}). \\hspace{20pt} \\blacksquare$$"
   ]
  },
  {
   "cell_type": "code",
   "execution_count": null,
   "metadata": {},
   "outputs": [],
   "source": []
  }
 ],
 "metadata": {
  "kernelspec": {
   "display_name": "Python 3",
   "language": "python",
   "name": "python3"
  },
  "language_info": {
   "codemirror_mode": {
    "name": "ipython",
    "version": 3
   },
   "file_extension": ".py",
   "mimetype": "text/x-python",
   "name": "python",
   "nbconvert_exporter": "python",
   "pygments_lexer": "ipython3",
   "version": "3.7.2"
  }
 },
 "nbformat": 4,
 "nbformat_minor": 2
}
